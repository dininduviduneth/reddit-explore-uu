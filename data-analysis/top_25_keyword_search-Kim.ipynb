{
 "cells": [
  {
   "cell_type": "code",
   "execution_count": 1,
   "id": "8c825207",
   "metadata": {},
   "outputs": [
    {
     "name": "stderr",
     "output_type": "stream",
     "text": [
      "[nltk_data] Downloading package stopwords to /home/ubuntu/nltk_data...\n",
      "[nltk_data]   Package stopwords is already up-to-date!\n",
      "[nltk_data] Downloading package punkt to /home/ubuntu/nltk_data...\n",
      "[nltk_data]   Package punkt is already up-to-date!\n",
      "[nltk_data] Downloading package averaged_perceptron_tagger to\n",
      "[nltk_data]     /home/ubuntu/nltk_data...\n",
      "[nltk_data]   Package averaged_perceptron_tagger is already up-to-\n",
      "[nltk_data]       date!\n"
     ]
    },
    {
     "data": {
      "text/plain": [
       "True"
      ]
     },
     "execution_count": 1,
     "metadata": {},
     "output_type": "execute_result"
    }
   ],
   "source": [
    "from pyspark.sql import SparkSession\n",
    "import nltk\n",
    "import json\n",
    "from nltk.corpus import stopwords\n",
    "import os\n",
    "from datetime import datetime\n",
    "\n",
    "nltk.download('stopwords')\n",
    "nltk.download('punkt')\n",
    "nltk.download('averaged_perceptron_tagger')\n"
   ]
  },
  {
   "cell_type": "code",
   "execution_count": 2,
   "id": "c2dc752c",
   "metadata": {},
   "outputs": [
    {
     "name": "stderr",
     "output_type": "stream",
     "text": [
      "Setting default log level to \"WARN\".\n",
      "To adjust logging level use sc.setLogLevel(newLevel). For SparkR, use setLogLevel(newLevel).\n"
     ]
    },
    {
     "name": "stdout",
     "output_type": "stream",
     "text": [
      "23/03/22 00:14:56 WARN NativeCodeLoader: Unable to load native-hadoop library for your platform... using builtin-java classes where applicable\n"
     ]
    }
   ],
   "source": [
    "#Starting spark session\n",
    "spark_session = SparkSession.builder\\\n",
    "        .master(\"spark://localhost:7077\") \\\n",
    "        .appName(\"Task-D\")\\\n",
    "        .config(\"spark.cores.max\", 4)\\\n",
    "        .getOrCreate()"
   ]
  },
  {
   "cell_type": "code",
   "execution_count": 3,
   "id": "229533ab",
   "metadata": {},
   "outputs": [],
   "source": [
    "def spliting_body(comments_rdd):\n",
    "    body = comments_rdd \\\n",
    "        .map(lambda line: json.loads(line)['body'].strip()) \\\n",
    "    \n",
    "    return body"
   ]
  },
  {
   "cell_type": "code",
   "execution_count": 4,
   "id": "65c9383f",
   "metadata": {},
   "outputs": [],
   "source": [
    "def get_keywords(comment,stop_word_list):\n",
    "    #nltk.download('stopwords')\n",
    "    #nltk.download('punkt')\n",
    "    #nltk.download('averaged_perceptron_tagger')\n",
    "    # Convert the comment to lowercase and split it into words\n",
    "    #words = comment.lower().split()\n",
    "    \n",
    "    punctuation = set([',', '.', '?', '!', ';', ':', '-', '_', '(', ')', '[', ']', '{', '}','*','#','%'])\n",
    "    # Remove punctuation and convert comment to lowercase\n",
    "    for p in punctuation:\n",
    "        comment = comment.replace(p, '')\n",
    "    \n",
    "    words = nltk.word_tokenize(comment.lower())\n",
    "    # Remove stopwords\n",
    "    #stop_words = set(stopwords.words('english'))\n",
    "    words = [word for word in words if word not in stop_word_list]\n",
    "    \n",
    "    # Extract keywords using NLTK\n",
    "    keywords = nltk.pos_tag(words)\n",
    "    keywords = [word for word, tag in keywords if tag.startswith('N')]\n",
    "    \n",
    "    return keywords"
   ]
  },
  {
   "cell_type": "code",
   "execution_count": 5,
   "id": "5430085b",
   "metadata": {},
   "outputs": [],
   "source": [
    "comments_rdd = spark_session.sparkContext.textFile(\"hdfs://130.238.28.245:9000/RC_2011-08\", use_unicode=True)\n"
   ]
  },
  {
   "cell_type": "code",
   "execution_count": 6,
   "id": "53e7dd97",
   "metadata": {},
   "outputs": [
    {
     "name": "stderr",
     "output_type": "stream",
     "text": [
      "                                                                                \r"
     ]
    },
    {
     "data": {
      "text/plain": [
       "['{\"link_id\":\"t3_j4zx3\",\"score_hidden\":false,\"score\":1,\"archived\":true,\"author_flair_text\":null,\"subreddit\":\"fffffffuuuuuuuuuuuu\",\"body\":\"\\\\\"$2, would you take that deal? I\\'d take that deal\\\\\"\",\"author\":\"DorkyDude\",\"distinguished\":null,\"parent_id\":\"t3_j4zx3\",\"id\":\"c298mtc\",\"subreddit_id\":\"t5_2qqlo\",\"controversiality\":0,\"gilded\":0,\"downs\":0,\"retrieved_on\":1427415708,\"name\":\"t1_c298mtc\",\"ups\":1,\"edited\":false,\"author_flair_css_class\":null,\"created_utc\":\"1312156800\"}',\n",
       " '{\"archived\":true,\"author_flair_text\":null,\"score\":2,\"link_id\":\"t3_j4kcg\",\"score_hidden\":false,\"subreddit_id\":\"t5_2qi6d\",\"controversiality\":0,\"gilded\":0,\"parent_id\":\"t1_c293dct\",\"distinguished\":null,\"id\":\"c298mtg\",\"author\":\"TrptJim\",\"subreddit\":\"motorcycles\",\"body\":\"Have you wrecked in them yet?\",\"downs\":0,\"name\":\"t1_c298mtg\",\"retrieved_on\":1427415708,\"created_utc\":\"1312156800\",\"edited\":false,\"author_flair_css_class\":null,\"ups\":2}',\n",
       " '{\"created_utc\":\"1312156800\",\"edited\":false,\"author_flair_css_class\":\"1\",\"ups\":1,\"downs\":0,\"name\":\"t1_c298mth\",\"retrieved_on\":1427415708,\"subreddit_id\":\"t5_2rxse\",\"controversiality\":0,\"gilded\":0,\"distinguished\":null,\"parent_id\":\"t1_c298kgu\",\"id\":\"c298mth\",\"author\":\"Migeycan87\",\"subreddit\":\"reddevils\",\"body\":\"I was thinking 170k max, but if we get another player off the books (Gibson) there would be a small bit more room to maneuver?\",\"archived\":true,\"author_flair_text\":\"De Gea\",\"score\":1,\"score_hidden\":false,\"link_id\":\"t3_j53vj\"}',\n",
       " '{\"created_utc\":\"1312156800\",\"edited\":false,\"author_flair_css_class\":null,\"ups\":1,\"downs\":0,\"name\":\"t1_c298mti\",\"retrieved_on\":1427415708,\"subreddit_id\":\"t5_2cneq\",\"controversiality\":0,\"gilded\":0,\"parent_id\":\"t1_c295rb2\",\"distinguished\":null,\"id\":\"c298mti\",\"author\":\"chaon93\",\"subreddit\":\"politics\",\"body\":\"a baton is more likely to kill someone than a taser\",\"archived\":true,\"author_flair_text\":null,\"score\":1,\"score_hidden\":false,\"link_id\":\"t3_j4sdr\"}',\n",
       " '{\"name\":\"t1_c298mtl\",\"retrieved_on\":1427415708,\"downs\":0,\"ups\":1,\"author_flair_css_class\":null,\"edited\":false,\"created_utc\":\"1312156800\",\"score_hidden\":false,\"link_id\":\"t3_j4z7y\",\"score\":1,\"author_flair_text\":null,\"archived\":true,\"body\":\"Cut him a break, he probably just finished watching Training Day. \",\"subreddit\":\"WTF\",\"author\":\"Typoking\",\"id\":\"c298mtl\",\"parent_id\":\"t3_j4z7y\",\"distinguished\":null,\"gilded\":0,\"controversiality\":0,\"subreddit_id\":\"t5_2qh61\"}']"
      ]
     },
     "execution_count": 6,
     "metadata": {},
     "output_type": "execute_result"
    }
   ],
   "source": [
    "comments_rdd.take(5)"
   ]
  },
  {
   "cell_type": "markdown",
   "id": "352e6851",
   "metadata": {},
   "source": [
    "# To extract body field from json"
   ]
  },
  {
   "cell_type": "code",
   "execution_count": 7,
   "id": "4aacf0da",
   "metadata": {},
   "outputs": [],
   "source": [
    "comment = spliting_body(comments_rdd)"
   ]
  },
  {
   "cell_type": "code",
   "execution_count": 8,
   "id": "655d1986",
   "metadata": {},
   "outputs": [
    {
     "name": "stderr",
     "output_type": "stream",
     "text": [
      "                                                                                \r"
     ]
    },
    {
     "data": {
      "text/plain": [
       "['\"$2, would you take that deal? I\\'d take that deal\"',\n",
       " 'Have you wrecked in them yet?',\n",
       " 'I was thinking 170k max, but if we get another player off the books (Gibson) there would be a small bit more room to maneuver?',\n",
       " 'a baton is more likely to kill someone than a taser',\n",
       " 'Cut him a break, he probably just finished watching Training Day.']"
      ]
     },
     "execution_count": 8,
     "metadata": {},
     "output_type": "execute_result"
    }
   ],
   "source": [
    "comment.take(5)"
   ]
  },
  {
   "cell_type": "code",
   "execution_count": 9,
   "id": "a4af12cc",
   "metadata": {},
   "outputs": [],
   "source": [
    "# declaring stop_words from NLTK \n",
    "stop_words = set(stopwords.words('english'))\n"
   ]
  },
  {
   "cell_type": "markdown",
   "id": "09bbed39",
   "metadata": {},
   "source": [
    "# To extract keywords from comments"
   ]
  },
  {
   "cell_type": "code",
   "execution_count": 10,
   "id": "94c08e28",
   "metadata": {},
   "outputs": [],
   "source": [
    "keywords = comment.flatMap(lambda x: get_keywords(x,stop_words))"
   ]
  },
  {
   "cell_type": "code",
   "execution_count": 11,
   "id": "ab13a701",
   "metadata": {},
   "outputs": [
    {
     "name": "stderr",
     "output_type": "stream",
     "text": [
      "                                                                                \r"
     ]
    },
    {
     "data": {
      "text/plain": [
       "['deal', \"'d\", 'deal', 'get', 'player']"
      ]
     },
     "execution_count": 11,
     "metadata": {},
     "output_type": "execute_result"
    }
   ],
   "source": [
    "keywords.take(5)"
   ]
  },
  {
   "cell_type": "markdown",
   "id": "cffb418a",
   "metadata": {},
   "source": [
    "# To find top 25 keywords"
   ]
  },
  {
   "cell_type": "code",
   "execution_count": 12,
   "id": "0eff006e",
   "metadata": {},
   "outputs": [
    {
     "name": "stderr",
     "output_type": "stream",
     "text": [
      "                                                                                \r"
     ]
    }
   ],
   "source": [
    "top_keywords = keywords.map(lambda x: (x, 1)) \\\n",
    "                      .reduceByKey(lambda x, y: x + y) \\\n",
    "                      .sortBy(lambda x: x[1], ascending=False) \\\n",
    "                      .take(25)"
   ]
  },
  {
   "cell_type": "code",
   "execution_count": null,
   "id": "6bbae12a",
   "metadata": {},
   "outputs": [],
   "source": []
  },
  {
   "cell_type": "code",
   "execution_count": 15,
   "id": "5a4a83f5",
   "metadata": {},
   "outputs": [
    {
     "data": {
      "text/plain": [
       "[('people', 1146248),\n",
       " ('time', 749068),\n",
       " ('way', 537511),\n",
       " ('something', 471597),\n",
       " ('thing', 387143),\n",
       " ('things', 369628),\n",
       " ('someone', 345291),\n",
       " ('game', 319483),\n",
       " ('years', 294378),\n",
       " ('lot', 283193),\n",
       " ('day', 283188),\n",
       " ('anything', 276699),\n",
       " ('work', 276135),\n",
       " ('point', 248098),\n",
       " ('life', 244527),\n",
       " ('man', 237846),\n",
       " ('money', 232769),\n",
       " ('get', 228221),\n",
       " ('thanks', 227201),\n",
       " ('gt', 218653),\n",
       " ('guy', 212467),\n",
       " ('year', 211795),\n",
       " ('use', 203012),\n",
       " ('person', 201057),\n",
       " ('everyone', 199371)]"
      ]
     },
     "execution_count": 15,
     "metadata": {},
     "output_type": "execute_result"
    }
   ],
   "source": [
    "top_keywords"
   ]
  },
  {
   "cell_type": "markdown",
   "id": "41da28e0",
   "metadata": {},
   "source": [
    "# Kill the spark application"
   ]
  },
  {
   "cell_type": "code",
   "execution_count": 16,
   "id": "929e7752",
   "metadata": {},
   "outputs": [],
   "source": [
    "spark_session.stop()"
   ]
  },
  {
   "cell_type": "code",
   "execution_count": null,
   "id": "68d8feb6",
   "metadata": {},
   "outputs": [],
   "source": []
  }
 ],
 "metadata": {
  "kernelspec": {
   "display_name": "Python 3 (ipykernel)",
   "language": "python",
   "name": "python3"
  },
  "language_info": {
   "codemirror_mode": {
    "name": "ipython",
    "version": 3
   },
   "file_extension": ".py",
   "mimetype": "text/x-python",
   "name": "python",
   "nbconvert_exporter": "python",
   "pygments_lexer": "ipython3",
   "version": "3.10.6"
  }
 },
 "nbformat": 4,
 "nbformat_minor": 5
}
