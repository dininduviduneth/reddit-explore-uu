{
 "cells": [
  {
   "cell_type": "code",
   "execution_count": 17,
   "id": "f328e036",
   "metadata": {},
   "outputs": [],
   "source": [
    "from pyspark.sql import SparkSession\n",
    "import json"
   ]
  },
  {
   "cell_type": "code",
   "execution_count": 18,
   "id": "3ff5045e",
   "metadata": {},
   "outputs": [],
   "source": [
    "spark_session = SparkSession.builder\\\n",
    "        .master(\"spark://localhost:7077\") \\\n",
    "        .appName(\"ludvig-westerholm_popularity-by-keyword\")\\\n",
    "        .config(\"spark.cores.max\", 4)\\\n",
    "        .getOrCreate()"
   ]
  },
  {
   "cell_type": "code",
   "execution_count": 19,
   "id": "cf246e28",
   "metadata": {},
   "outputs": [
    {
     "name": "stderr",
     "output_type": "stream",
     "text": [
      "                                                                                \r"
     ]
    }
   ],
   "source": [
    "# Create json dataframe\n",
    "comments_json = spark_session.read.format('json').load(\"hdfs://130.238.28.245:9000/RC_2011-08\")"
   ]
  },
  {
   "cell_type": "code",
   "execution_count": 20,
   "id": "af90bfb0",
   "metadata": {},
   "outputs": [
    {
     "name": "stderr",
     "output_type": "stream",
     "text": [
      "[Stage 15:>                                                         (0 + 1) / 1]\r"
     ]
    },
    {
     "name": "stdout",
     "output_type": "stream",
     "text": [
      "['c2g6c4v', 'c2ccvzm', 'c2dne92', 'c2bus6a', 'c2blic4', 'c2b6196', 'c2ag9e3', 'c2avit3', 'c2ctvsz', 'c2e3p4x']\n"
     ]
    },
    {
     "name": "stderr",
     "output_type": "stream",
     "text": [
      "\r",
      "                                                                                \r"
     ]
    }
   ],
   "source": [
    "from pyspark.sql.functions import desc\n",
    "\n",
    "def top_scores_with_keyword(df, keyword):\n",
    "    filtered_df = df.filter(df.body.contains(keyword)) #filters to only contain posts with the given keyword\n",
    "    top_scores_df = filtered_df.orderBy(desc(\"score\")).limit(10) #orders the list by score\n",
    "    return top_scores_df.select(\"id\").rdd.flatMap(lambda x: x).collect() #returns a list of id's that has the highest score given the keyword\n",
    "\n",
    "print(top_scores_with_keyword(comments_json, \"trump\"))\n"
   ]
  },
  {
   "cell_type": "code",
   "execution_count": 25,
   "id": "78998653",
   "metadata": {},
   "outputs": [
    {
     "name": "stderr",
     "output_type": "stream",
     "text": [
      "                                                                                \r"
     ]
    },
    {
     "data": {
      "text/plain": [
       "[Row(archived=True, author='[deleted]', author_flair_css_class=None, author_flair_text=None, body=\"I'd say world champion Magic player trumps mediocre, petty blogger any day.\\n\\nWhy was this post even on Gizmodo in the first place? Seems more like a personal blog that should be hidden away in a dark corner of the internet, not the front page of a site known for news on technology.\", controversiality=0, created_utc='1314675050', distinguished=None, downs=0, edited='false', gilded=0, id='c2g6c4v', link_id='t3_jyn8m', name='t1_c2g6c4v', parent_id='t3_jyn8m', retrieved_on=1427535981, score=923, score_hidden=False, subreddit='pics', subreddit_id='t5_2qh0u', ups=923)]"
      ]
     },
     "execution_count": 25,
     "metadata": {},
     "output_type": "execute_result"
    }
   ],
   "source": [
    "comments_json.filter(comments_json.id == \"c2g6c4v\").collect()"
   ]
  },
  {
   "cell_type": "markdown",
   "id": "55a6fe40",
   "metadata": {},
   "source": [
    "### Kill the application once you are done with the analysis :)"
   ]
  },
  {
   "cell_type": "code",
   "execution_count": 5,
   "id": "788a1905",
   "metadata": {},
   "outputs": [
    {
     "name": "stdout",
     "output_type": "stream",
     "text": [
      "23/03/16 01:51:34 ERROR StandaloneSchedulerBackend: Application has been killed. Reason: Master removed our application: KILLED\n",
      "23/03/16 01:51:34 ERROR Inbox: Ignoring error\n",
      "org.apache.spark.SparkException: Exiting due to error from cluster scheduler: Master removed our application: KILLED\n",
      "\tat org.apache.spark.errors.SparkCoreErrors$.clusterSchedulerError(SparkCoreErrors.scala:218)\n",
      "\tat org.apache.spark.scheduler.TaskSchedulerImpl.error(TaskSchedulerImpl.scala:923)\n",
      "\tat org.apache.spark.scheduler.cluster.StandaloneSchedulerBackend.dead(StandaloneSchedulerBackend.scala:154)\n",
      "\tat org.apache.spark.deploy.client.StandaloneAppClient$ClientEndpoint.markDead(StandaloneAppClient.scala:262)\n",
      "\tat org.apache.spark.deploy.client.StandaloneAppClient$ClientEndpoint$$anonfun$receive$1.applyOrElse(StandaloneAppClient.scala:169)\n",
      "\tat org.apache.spark.rpc.netty.Inbox.$anonfun$process$1(Inbox.scala:115)\n",
      "\tat org.apache.spark.rpc.netty.Inbox.safelyCall(Inbox.scala:213)\n",
      "\tat org.apache.spark.rpc.netty.Inbox.process(Inbox.scala:100)\n",
      "\tat org.apache.spark.rpc.netty.MessageLoop.org$apache$spark$rpc$netty$MessageLoop$$receiveLoop(MessageLoop.scala:75)\n",
      "\tat org.apache.spark.rpc.netty.MessageLoop$$anon$1.run(MessageLoop.scala:41)\n",
      "\tat java.util.concurrent.ThreadPoolExecutor.runWorker(ThreadPoolExecutor.java:1149)\n",
      "\tat java.util.concurrent.ThreadPoolExecutor$Worker.run(ThreadPoolExecutor.java:624)\n",
      "\tat java.lang.Thread.run(Thread.java:750)\n"
     ]
    }
   ],
   "source": [
    "# spark_session.stop()"
   ]
  }
 ],
 "metadata": {
  "kernelspec": {
   "display_name": "Python 3 (ipykernel)",
   "language": "python",
   "name": "python3"
  },
  "language_info": {
   "codemirror_mode": {
    "name": "ipython",
    "version": 3
   },
   "file_extension": ".py",
   "mimetype": "text/x-python",
   "name": "python",
   "nbconvert_exporter": "python",
   "pygments_lexer": "ipython3",
   "version": "3.10.6"
  }
 },
 "nbformat": 4,
 "nbformat_minor": 5
}
