{
 "cells": [
  {
   "cell_type": "markdown",
   "id": "ddff35f8",
   "metadata": {},
   "source": [
    "# Measure of engagement - Correlation between the length of a comment and the score"
   ]
  },
  {
   "cell_type": "code",
   "execution_count": 1,
   "id": "d76f3878",
   "metadata": {},
   "outputs": [],
   "source": [
    "from pyspark.sql import SparkSession\n",
    "from pyspark.sql.functions import length, corr"
   ]
  },
  {
   "cell_type": "markdown",
   "id": "12496664",
   "metadata": {},
   "source": [
    "## Staring a session"
   ]
  },
  {
   "cell_type": "code",
   "execution_count": 2,
   "id": "28535f4f",
   "metadata": {},
   "outputs": [
    {
     "name": "stderr",
     "output_type": "stream",
     "text": [
      "Setting default log level to \"WARN\".\n",
      "To adjust logging level use sc.setLogLevel(newLevel). For SparkR, use setLogLevel(newLevel).\n"
     ]
    },
    {
     "name": "stdout",
     "output_type": "stream",
     "text": [
      "23/03/21 13:42:15 WARN NativeCodeLoader: Unable to load native-hadoop library for your platform... using builtin-java classes where applicable\n"
     ]
    }
   ],
   "source": [
    "spark_session = SparkSession.builder\\\n",
    "        .master(\"spark://localhost:7077\") \\\n",
    "        .appName(\"Tayyab_Hasan_Task_C_Measure_of_engagement\")\\\n",
    "        .config(\"spark.cores.max\", 4)\\\n",
    "        .getOrCreate()"
   ]
  },
  {
   "cell_type": "markdown",
   "id": "d5f526bb",
   "metadata": {},
   "source": [
    "## Reading Dataset as JSON file"
   ]
  },
  {
   "cell_type": "code",
   "execution_count": 3,
   "id": "e7d33968",
   "metadata": {},
   "outputs": [
    {
     "name": "stderr",
     "output_type": "stream",
     "text": [
      "                                                                                \r"
     ]
    }
   ],
   "source": [
    "comments_json = spark_session.read.format('json').load(\"hdfs://130.238.28.245:9000/RC_2011-08\")"
   ]
  },
  {
   "cell_type": "markdown",
   "id": "3e881056",
   "metadata": {},
   "source": [
    "## Filtering dataset with those reddit posts that have score greater than 100"
   ]
  },
  {
   "cell_type": "code",
   "execution_count": 4,
   "id": "b3328e3d",
   "metadata": {},
   "outputs": [],
   "source": [
    "# Filter the DataFrame to only include comments with a score greater than 100\n",
    "df_filtered_10 = comments_json.filter(comments_json.score > 10)\n",
    "df_filtered_100 = comments_json.filter(comments_json.score > 100)\n",
    "df_filtered_250 = comments_json.filter(comments_json.score > 250)\n",
    "df_filtered_500 = comments_json.filter(comments_json.score > 500)"
   ]
  },
  {
   "cell_type": "markdown",
   "id": "20857941",
   "metadata": {},
   "source": [
    "## Getting the length of each reddit post"
   ]
  },
  {
   "cell_type": "code",
   "execution_count": 5,
   "id": "91684ae3",
   "metadata": {},
   "outputs": [],
   "source": [
    "# Create a new column for the length of the comment\n",
    "df_with_length_10 = df_filtered_10.withColumn(\"comment_length\", length(df_filtered_10.body))\n",
    "df_with_length_100 = df_filtered_100.withColumn(\"comment_length\", length(df_filtered_100.body))\n",
    "df_with_length_250 = df_filtered_250.withColumn(\"comment_length\", length(df_filtered_250.body))\n",
    "df_with_length_500 = df_filtered_500.withColumn(\"comment_length\", length(df_filtered_500.body))"
   ]
  },
  {
   "cell_type": "markdown",
   "id": "9dc97801",
   "metadata": {},
   "source": [
    "## Calcuating correlation"
   ]
  },
  {
   "cell_type": "code",
   "execution_count": 6,
   "id": "bc14be32",
   "metadata": {},
   "outputs": [
    {
     "name": "stderr",
     "output_type": "stream",
     "text": [
      "                                                                                \r"
     ]
    }
   ],
   "source": [
    "# Calculate the correlation between comment length and score\n",
    "correlation_10 = df_with_length_10.select(corr(\"comment_length\", \"score\")).collect()[0][0]\n",
    "correlation_100 = df_with_length_100.select(corr(\"comment_length\", \"score\")).collect()[0][0]\n",
    "correlation_250 = df_with_length_250.select(corr(\"comment_length\", \"score\")).collect()[0][0]\n",
    "correlation_500 = df_with_length_500.select(corr(\"comment_length\", \"score\")).collect()[0][0]"
   ]
  },
  {
   "cell_type": "markdown",
   "id": "f4889ed5",
   "metadata": {},
   "source": [
    "## Priniting results"
   ]
  },
  {
   "cell_type": "code",
   "execution_count": 7,
   "id": "d1064ad1",
   "metadata": {},
   "outputs": [
    {
     "name": "stdout",
     "output_type": "stream",
     "text": [
      "Correlation between comment length and score(>10): 0.023028963877437098\n",
      "Correlation between comment length and score(>100): 0.06924473573808439\n",
      "Correlation between comment length and score(>250): 0.08400826758801869\n",
      "Correlation between comment length and score(>500): 0.09126187448475782\n"
     ]
    }
   ],
   "source": [
    "# Print the correlation coefficient\n",
    "print(\"Correlation between comment length and score(>10):\", correlation_10)\n",
    "print(\"Correlation between comment length and score(>100):\", correlation_100)\n",
    "print(\"Correlation between comment length and score(>250):\", correlation_250)\n",
    "print(\"Correlation between comment length and score(>500):\", correlation_500)"
   ]
  },
  {
   "cell_type": "markdown",
   "id": "38dd09b3",
   "metadata": {},
   "source": [
    "## Closing Session"
   ]
  },
  {
   "cell_type": "code",
   "execution_count": 8,
   "id": "f00ccd8a",
   "metadata": {},
   "outputs": [],
   "source": [
    "spark_session.stop()"
   ]
  }
 ],
 "metadata": {
  "kernelspec": {
   "display_name": "Python 3 (ipykernel)",
   "language": "python",
   "name": "python3"
  },
  "language_info": {
   "codemirror_mode": {
    "name": "ipython",
    "version": 3
   },
   "file_extension": ".py",
   "mimetype": "text/x-python",
   "name": "python",
   "nbconvert_exporter": "python",
   "pygments_lexer": "ipython3",
   "version": "3.10.6"
  }
 },
 "nbformat": 4,
 "nbformat_minor": 5
}
