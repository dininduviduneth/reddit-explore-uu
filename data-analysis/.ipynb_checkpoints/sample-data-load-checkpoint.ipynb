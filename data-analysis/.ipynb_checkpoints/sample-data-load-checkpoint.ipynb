{
 "cells": [
  {
   "cell_type": "code",
   "execution_count": 1,
   "id": "f328e036",
   "metadata": {},
   "outputs": [],
   "source": [
    "from pyspark.sql import SparkSession"
   ]
  },
  {
   "cell_type": "code",
   "execution_count": 2,
   "id": "3ff5045e",
   "metadata": {},
   "outputs": [
    {
     "name": "stderr",
     "output_type": "stream",
     "text": [
      "Setting default log level to \"WARN\".\n",
      "To adjust logging level use sc.setLogLevel(newLevel). For SparkR, use setLogLevel(newLevel).\n"
     ]
    },
    {
     "name": "stdout",
     "output_type": "stream",
     "text": [
      "23/03/16 00:28:08 WARN NativeCodeLoader: Unable to load native-hadoop library for your platform... using builtin-java classes where applicable\n"
     ]
    }
   ],
   "source": [
    "spark_session = SparkSession.builder\\\n",
    "        .master(\"spark://localhost:7077\") \\\n",
    "        .appName(\"your-name_analysis-name\")\\\n",
    "        .config(\"spark.cores.max\", 8)\\\n",
    "        .getOrCreate()"
   ]
  },
  {
   "cell_type": "code",
   "execution_count": 3,
   "id": "864154b6",
   "metadata": {},
   "outputs": [],
   "source": [
    "# Create an RDD object called rdd_en and store the textFile content in it\n",
    "comments_rdd = spark_session.sparkContext.textFile(\"hdfs://130.238.28.245:9000/RC_2011-08\", use_unicode=True)"
   ]
  },
  {
   "cell_type": "code",
   "execution_count": 4,
   "id": "cf246e28",
   "metadata": {},
   "outputs": [
    {
     "name": "stderr",
     "output_type": "stream",
     "text": [
      "                                                                                \r"
     ]
    },
    {
     "data": {
      "text/plain": [
       "['{\"link_id\":\"t3_j4zx3\",\"score_hidden\":false,\"score\":1,\"archived\":true,\"author_flair_text\":null,\"subreddit\":\"fffffffuuuuuuuuuuuu\",\"body\":\"\\\\\"$2, would you take that deal? I\\'d take that deal\\\\\"\",\"author\":\"DorkyDude\",\"distinguished\":null,\"parent_id\":\"t3_j4zx3\",\"id\":\"c298mtc\",\"subreddit_id\":\"t5_2qqlo\",\"controversiality\":0,\"gilded\":0,\"downs\":0,\"retrieved_on\":1427415708,\"name\":\"t1_c298mtc\",\"ups\":1,\"edited\":false,\"author_flair_css_class\":null,\"created_utc\":\"1312156800\"}',\n",
       " '{\"archived\":true,\"author_flair_text\":null,\"score\":2,\"link_id\":\"t3_j4kcg\",\"score_hidden\":false,\"subreddit_id\":\"t5_2qi6d\",\"controversiality\":0,\"gilded\":0,\"parent_id\":\"t1_c293dct\",\"distinguished\":null,\"id\":\"c298mtg\",\"author\":\"TrptJim\",\"subreddit\":\"motorcycles\",\"body\":\"Have you wrecked in them yet?\",\"downs\":0,\"name\":\"t1_c298mtg\",\"retrieved_on\":1427415708,\"created_utc\":\"1312156800\",\"edited\":false,\"author_flair_css_class\":null,\"ups\":2}',\n",
       " '{\"created_utc\":\"1312156800\",\"edited\":false,\"author_flair_css_class\":\"1\",\"ups\":1,\"downs\":0,\"name\":\"t1_c298mth\",\"retrieved_on\":1427415708,\"subreddit_id\":\"t5_2rxse\",\"controversiality\":0,\"gilded\":0,\"distinguished\":null,\"parent_id\":\"t1_c298kgu\",\"id\":\"c298mth\",\"author\":\"Migeycan87\",\"subreddit\":\"reddevils\",\"body\":\"I was thinking 170k max, but if we get another player off the books (Gibson) there would be a small bit more room to maneuver?\",\"archived\":true,\"author_flair_text\":\"De Gea\",\"score\":1,\"score_hidden\":false,\"link_id\":\"t3_j53vj\"}',\n",
       " '{\"created_utc\":\"1312156800\",\"edited\":false,\"author_flair_css_class\":null,\"ups\":1,\"downs\":0,\"name\":\"t1_c298mti\",\"retrieved_on\":1427415708,\"subreddit_id\":\"t5_2cneq\",\"controversiality\":0,\"gilded\":0,\"parent_id\":\"t1_c295rb2\",\"distinguished\":null,\"id\":\"c298mti\",\"author\":\"chaon93\",\"subreddit\":\"politics\",\"body\":\"a baton is more likely to kill someone than a taser\",\"archived\":true,\"author_flair_text\":null,\"score\":1,\"score_hidden\":false,\"link_id\":\"t3_j4sdr\"}',\n",
       " '{\"name\":\"t1_c298mtl\",\"retrieved_on\":1427415708,\"downs\":0,\"ups\":1,\"author_flair_css_class\":null,\"edited\":false,\"created_utc\":\"1312156800\",\"score_hidden\":false,\"link_id\":\"t3_j4z7y\",\"score\":1,\"author_flair_text\":null,\"archived\":true,\"body\":\"Cut him a break, he probably just finished watching Training Day. \",\"subreddit\":\"WTF\",\"author\":\"Typoking\",\"id\":\"c298mtl\",\"parent_id\":\"t3_j4z7y\",\"distinguished\":null,\"gilded\":0,\"controversiality\":0,\"subreddit_id\":\"t5_2qh61\"}']"
      ]
     },
     "execution_count": 4,
     "metadata": {},
     "output_type": "execute_result"
    }
   ],
   "source": [
    "# Read the first 10 comments\n",
    "comments_rdd.take(5)"
   ]
  },
  {
   "cell_type": "markdown",
   "id": "55a6fe40",
   "metadata": {},
   "source": [
    "### Kill the application once you are done with the analysis :)"
   ]
  },
  {
   "cell_type": "code",
   "execution_count": 5,
   "id": "788a1905",
   "metadata": {},
   "outputs": [],
   "source": [
    "# spark_session.stop()"
   ]
  }
 ],
 "metadata": {
  "kernelspec": {
   "display_name": "Python 3 (ipykernel)",
   "language": "python",
   "name": "python3"
  },
  "language_info": {
   "codemirror_mode": {
    "name": "ipython",
    "version": 3
   },
   "file_extension": ".py",
   "mimetype": "text/x-python",
   "name": "python",
   "nbconvert_exporter": "python",
   "pygments_lexer": "ipython3",
   "version": "3.10.6"
  }
 },
 "nbformat": 4,
 "nbformat_minor": 5
}
