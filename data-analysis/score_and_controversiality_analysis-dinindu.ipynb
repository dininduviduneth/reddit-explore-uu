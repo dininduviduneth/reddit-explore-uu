{
 "cells": [
  {
   "cell_type": "code",
   "execution_count": 1,
   "id": "f328e036",
   "metadata": {},
   "outputs": [],
   "source": [
    "from pyspark.sql import SparkSession"
   ]
  },
  {
   "cell_type": "code",
   "execution_count": 2,
   "id": "3ff5045e",
   "metadata": {},
   "outputs": [
    {
     "name": "stderr",
     "output_type": "stream",
     "text": [
      "Setting default log level to \"WARN\".\n",
      "To adjust logging level use sc.setLogLevel(newLevel). For SparkR, use setLogLevel(newLevel).\n"
     ]
    },
    {
     "name": "stdout",
     "output_type": "stream",
     "text": [
      "23/03/18 12:15:45 WARN NativeCodeLoader: Unable to load native-hadoop library for your platform... using builtin-java classes where applicable\n"
     ]
    }
   ],
   "source": [
    "spark_session = SparkSession.builder\\\n",
    "        .master(\"spark://localhost:7077\") \\\n",
    "        .appName(\"Dinindu_Task-B\")\\\n",
    "        .config(\"spark.cores.max\", 4)\\\n",
    "        .getOrCreate()"
   ]
  },
  {
   "cell_type": "code",
   "execution_count": 5,
   "id": "ec566307",
   "metadata": {},
   "outputs": [
    {
     "name": "stderr",
     "output_type": "stream",
     "text": [
      "                                                                                \r"
     ]
    }
   ],
   "source": [
    "# A JSON dataset is pointed to by path.\n",
    "comments_json = spark_session.read.format('json').load(\"hdfs://130.238.28.245:9000/RC_2011-08\")"
   ]
  },
  {
   "cell_type": "code",
   "execution_count": 6,
   "id": "53bb9335",
   "metadata": {},
   "outputs": [
    {
     "data": {
      "text/plain": [
       "['archived',\n",
       " 'author',\n",
       " 'author_flair_css_class',\n",
       " 'author_flair_text',\n",
       " 'body',\n",
       " 'controversiality',\n",
       " 'created_utc',\n",
       " 'distinguished',\n",
       " 'downs',\n",
       " 'edited',\n",
       " 'gilded',\n",
       " 'id',\n",
       " 'link_id',\n",
       " 'name',\n",
       " 'parent_id',\n",
       " 'retrieved_on',\n",
       " 'score',\n",
       " 'score_hidden',\n",
       " 'subreddit',\n",
       " 'subreddit_id',\n",
       " 'ups']"
      ]
     },
     "execution_count": 6,
     "metadata": {},
     "output_type": "execute_result"
    }
   ],
   "source": [
    "comments_json.columns"
   ]
  },
  {
   "cell_type": "code",
   "execution_count": 7,
   "id": "42624df1",
   "metadata": {},
   "outputs": [],
   "source": [
    "# Create an Spark SQL view for comments_json with the name \"comments\"\n",
    "comments_json.createOrReplaceTempView(\"comments\")"
   ]
  },
  {
   "cell_type": "markdown",
   "id": "6c120163",
   "metadata": {},
   "source": [
    "### To find the Top 10 authors who has the highest aggregate scores"
   ]
  },
  {
   "cell_type": "code",
   "execution_count": 8,
   "id": "78f13652",
   "metadata": {},
   "outputs": [
    {
     "name": "stderr",
     "output_type": "stream",
     "text": [
      "[Stage 3:>                                                          (0 + 4) / 4]\r"
     ]
    },
    {
     "name": "stdout",
     "output_type": "stream",
     "text": [
      "+--------------------+-----------+--------------+------------------+\n",
      "|              author|total_score|comments_count| score_per_comment|\n",
      "+--------------------+-----------+--------------+------------------+\n",
      "|ProbablyHittingOnYou|      42822|          1128|37.962765957446805|\n",
      "|         Prufrock451|      37309|           451|  82.7250554323725|\n",
      "|        Jonnymagic00|      35767|           146| 244.9794520547945|\n",
      "|           Warlizard|      27760|          2296|12.090592334494774|\n",
      "|      LimblessWonder|      24167|           501|48.237524950099804|\n",
      "|          AMfuckingA|      23105|           166| 139.1867469879518|\n",
      "|              Skopak|      22744|           115|197.77391304347827|\n",
      "|             Scarker|      20555|           622|33.046623794212216|\n",
      "|              Copo55|      20216|           556| 36.35971223021583|\n",
      "|             feureau|      19647|          1718|11.435972060535507|\n",
      "|    ggggbabybabybaby|      19298|           739|26.113667117726656|\n",
      "|       pseudolobster|      18027|           913|19.744797371303395|\n",
      "|           mileylols|      17757|          4594| 3.865259033521985|\n",
      "|  webby_mc_webberson|      16811|          1361|12.351947097722263|\n",
      "|     original-finder|      16272|          2421| 6.721189591078067|\n",
      "|         IAMDONLEMON|      15878|            51| 311.3333333333333|\n",
      "|     relevant_rule34|      15654|           255| 61.38823529411765|\n",
      "|    TheAtomicPlayboy|      15622|          1071|14.586367880485527|\n",
      "|        XavierMendel|      14923|          1431| 10.42837176799441|\n",
      "|  IAmAWhaleBiologist|      14762|           828| 17.82850241545894|\n",
      "|          anexanhume|      14551|           445|32.698876404494385|\n",
      "|        GodOfAtheism|      14549|          1382|10.527496382054993|\n",
      "|          farceur318|      14474|           660| 21.93030303030303|\n",
      "|        Lampmonster1|      14337|          1642|  8.73142509135201|\n",
      "|         Forthewolfx|      14216|           586| 24.25938566552901|\n",
      "+--------------------+-----------+--------------+------------------+\n",
      "only showing top 25 rows\n",
      "\n"
     ]
    },
    {
     "name": "stderr",
     "output_type": "stream",
     "text": [
      "\r",
      "                                                                                \r"
     ]
    }
   ],
   "source": [
    "spark_session.sql(\n",
    "    \"SELECT author, SUM(score) as total_score, COUNT(created_utc) as comments_count, AVG(score) as score_per_comment \\\n",
    "     FROM comments \\\n",
    "     WHERE author!= '[deleted]' \\\n",
    "     GROUP BY author \\\n",
    "     ORDER BY total_score DESC\"\n",
    ").show(25)"
   ]
  },
  {
   "cell_type": "markdown",
   "id": "c9a5d6f6",
   "metadata": {},
   "source": [
    "### To find the Top 10 authors who has written the most controversial comments"
   ]
  },
  {
   "cell_type": "code",
   "execution_count": 9,
   "id": "d442d9ef",
   "metadata": {},
   "outputs": [
    {
     "name": "stderr",
     "output_type": "stream",
     "text": [
      "                                                                                \r"
     ]
    },
    {
     "name": "stdout",
     "output_type": "stream",
     "text": [
      "+----------------+----------------------+--------------+\n",
      "|          author|total_controversiality|comments_count|\n",
      "+----------------+----------------------+--------------+\n",
      "|         simonbp|                     0|             2|\n",
      "|          phi186|                     0|           186|\n",
      "|       magistera|                     0|            21|\n",
      "|        1950sGuy|                     0|           151|\n",
      "|         catcard|                     0|            70|\n",
      "|       tjsterc17|                     0|            94|\n",
      "|       jdarp1984|                     0|            42|\n",
      "|         cograve|                     0|            22|\n",
      "|  SavageHunter77|                     0|             6|\n",
      "|       bonzairob|                     0|            24|\n",
      "|   dearsomething|                     0|           130|\n",
      "|        madjecks|                     0|            51|\n",
      "|      bijibijmak|                     0|            97|\n",
      "|          gegtik|                     0|            66|\n",
      "|         patssle|                     0|           164|\n",
      "|         r0mster|                     0|           927|\n",
      "|   beastinboston|                     0|            34|\n",
      "|    bambooshootz|                     0|            85|\n",
      "|   FragileIdeals|                     0|            51|\n",
      "|         serth71|                     0|            48|\n",
      "|     scaredsquee|                     0|            75|\n",
      "|guy-on-the-couch|                     0|            56|\n",
      "|       Frenemies|                     0|           122|\n",
      "|       Nsongster|                     0|           460|\n",
      "|          dsousa|                     0|           170|\n",
      "+----------------+----------------------+--------------+\n",
      "only showing top 25 rows\n",
      "\n"
     ]
    }
   ],
   "source": [
    "spark_session.sql(\n",
    "    \"SELECT author, SUM(controversiality) as total_controversiality, COUNT(created_utc) as comments_count \\\n",
    "     FROM comments \\\n",
    "     WHERE author!= '[deleted]' \\\n",
    "     GROUP BY author \\\n",
    "     ORDER BY total_controversiality DESC\"\n",
    ").show(25)"
   ]
  },
  {
   "cell_type": "markdown",
   "id": "55a6fe40",
   "metadata": {},
   "source": [
    "### Kill the application once you are done with the analysis :)"
   ]
  },
  {
   "cell_type": "code",
   "execution_count": 10,
   "id": "788a1905",
   "metadata": {},
   "outputs": [],
   "source": [
    "spark_session.stop()"
   ]
  }
 ],
 "metadata": {
  "kernelspec": {
   "display_name": "Python 3 (ipykernel)",
   "language": "python",
   "name": "python3"
  },
  "language_info": {
   "codemirror_mode": {
    "name": "ipython",
    "version": 3
   },
   "file_extension": ".py",
   "mimetype": "text/x-python",
   "name": "python",
   "nbconvert_exporter": "python",
   "pygments_lexer": "ipython3",
   "version": "3.10.6"
  }
 },
 "nbformat": 4,
 "nbformat_minor": 5
}
