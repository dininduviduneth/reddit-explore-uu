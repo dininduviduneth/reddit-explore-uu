{
 "cells": [
  {
   "cell_type": "code",
   "execution_count": 2,
   "id": "ca072b08",
   "metadata": {},
   "outputs": [],
   "source": [
    "import matplotlib.pyplot as plt\n",
    "import seaborn as sns\n",
    "\n",
    "# Second first element 1-worker node, last element 7-worker nodes\n",
    "seconds = [240.34, 100.324, 95, 92, 91, 10, 5]\n",
    "\n",
    "workers = ['One', 'Two', 'Three', 'Four', 'Five', 'Six', 'Seven']\n",
    "\n",
    "# Calculate percentage differences between adjacent elements\n",
    "percentages = [(seconds[i] - seconds[i-1])/seconds[i-1] * 100 for i in range(1, len(seconds))]\n",
    "\n",
    "#Set Style\n",
    "sns.set_style('darkgrid')\n",
    "\n",
    "# Create bar plot with time values\n",
    "sns.barplot(workers, seconds, palette='muted')\n",
    "\n",
    "# Add percentage labels on top of bars\n",
    "for i, v in enumerate(percentages):\n",
    "    plt.text(i+1, seconds[i+1]+0.2, format(v, '.2f') + '%', color='black', fontweight='roman', ha = 'center')\n",
    "\n",
    "# Set x-axis label\n",
    "plt.xlabel(\"Number of Spark Workers\")\n",
    "\n",
    "# Set y-axis label\n",
    "plt.ylabel(\"Time (s)\")\n",
    "\n",
    "# Set title\n",
    "plt.title(\"Performance Analysis X\")\n",
    "\n",
    "# Show the plot\n",
    "plt.show()"
   ]
  },
  {
   "cell_type": "code",
   "execution_count": null,
   "id": "f0c111d0",
   "metadata": {},
   "outputs": [],
   "source": [
    "plt.savefig(\"analysis_X.png\", dpi=300)"
   ]
  }
 ],
 "metadata": {
  "kernelspec": {
   "display_name": "Python 3 (ipykernel)",
   "language": "python",
   "name": "python3"
  },
  "language_info": {
   "codemirror_mode": {
    "name": "ipython",
    "version": 3
   },
   "file_extension": ".py",
   "mimetype": "text/x-python",
   "name": "python",
   "nbconvert_exporter": "python",
   "pygments_lexer": "ipython3",
   "version": "3.10.6"
  }
 },
 "nbformat": 4,
 "nbformat_minor": 5
}
