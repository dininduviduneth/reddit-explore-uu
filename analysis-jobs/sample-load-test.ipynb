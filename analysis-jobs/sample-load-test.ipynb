{
 "cells": [
  {
   "cell_type": "code",
   "execution_count": 1,
   "id": "404d890e",
   "metadata": {},
   "outputs": [],
   "source": [
    "from pyspark.sql import SparkSession"
   ]
  },
  {
   "cell_type": "code",
   "execution_count": 3,
   "id": "e8d47165",
   "metadata": {},
   "outputs": [
    {
     "name": "stderr",
     "output_type": "stream",
     "text": [
      "WARNING: An illegal reflective access operation has occurred\n",
      "WARNING: Illegal reflective access by org.apache.spark.unsafe.Platform (file:/opt/spark/jars/spark-unsafe_2.12-3.2.3.jar) to constructor java.nio.DirectByteBuffer(long,int)\n",
      "WARNING: Please consider reporting this to the maintainers of org.apache.spark.unsafe.Platform\n",
      "WARNING: Use --illegal-access=warn to enable warnings of further illegal reflective access operations\n",
      "WARNING: All illegal access operations will be denied in a future release\n",
      "Using Spark's default log4j profile: org/apache/spark/log4j-defaults.properties\n",
      "Setting default log level to \"WARN\".\n",
      "To adjust logging level use sc.setLogLevel(newLevel). For SparkR, use setLogLevel(newLevel).\n",
      "23/03/14 16:56:32 WARN NativeCodeLoader: Unable to load native-hadoop library for your platform... using builtin-java classes where applicable\n"
     ]
    }
   ],
   "source": [
    "spark_session = SparkSession.builder\\\n",
    "        .master(\"spark://130.238.29.82:7077\") \\\n",
    "        .appName(\"dinindu_test\")\\\n",
    "        .config(\"spark.dynamicAllocation.enabled\", True)\\\n",
    "        .config(\"spark.dynamicAllocation.shuffleTracking.enabled\",True)\\\n",
    "        .config(\"spark.shuffle.service.enabled\", True)\\\n",
    "        .config(\"spark.dynamicAllocation.executorIdleTimeout\",\"30s\")\\\n",
    "        .config(\"spark.cores.max\", 4)\\\n",
    "        .getOrCreate()"
   ]
  },
  {
   "cell_type": "code",
   "execution_count": 4,
   "id": "c053258f",
   "metadata": {},
   "outputs": [],
   "source": [
    "# Create an RDD object called rdd_en and store the textFile content in it\n",
    "rdd_en = spark_session.sparkContext.textFile(\"hdfs://localhost:50000/user/ubuntu/sample.json\", use_unicode=True)"
   ]
  },
  {
   "cell_type": "code",
   "execution_count": 5,
   "id": "09cc4c5f",
   "metadata": {},
   "outputs": [
    {
     "name": "stderr",
     "output_type": "stream",
     "text": [
      "                                                                                \r"
     ]
    },
    {
     "data": {
      "text/plain": [
       "['{\"author\":\"Dethcola\",\"author_flair_css_class\":\"\",\"author_flair_text\":\"Clairemont\",\"body\":\"A quarry\",\"can_gild\":true,\"controversiality\":0,\"created_utc\":1506816000,\"distinguished\":null,\"edited\":false,\"gilded\":0,\"id\":\"dnqik14\",\"is_submitter\":false,\"link_id\":\"t3_73ieyz\",\"parent_id\":\"t3_73ieyz\",\"permalink\":\"/r/sandiego/comments/73ieyz/best_place_for_granite_counter_tops/dnqik14/\",\"retrieved_on\":1509189606,\"score\":3,\"stickied\":false,\"subreddit\":\"sandiego\",\"subreddit_id\":\"t5_2qq2q\"}',\n",
       " '{\"author\":\"PennyBotV2\",\"author_flair_css_class\":\"flair2-penny1\",\"author_flair_text\":\"The Bot\",\"body\":\"[Salutations! I\\'m not sure what you said.](http://imgur.com/9TtaInH) \\\\n \\\\n\",\"can_gild\":true,\"controversiality\":0,\"created_utc\":1506816000,\"distinguished\":null,\"edited\":false,\"gilded\":0,\"id\":\"dnqik15\",\"is_submitter\":false,\"link_id\":\"t3_73g740\",\"parent_id\":\"t1_dnqiiv7\",\"permalink\":\"/r/RWBY/comments/73g740/ruby_gives_greetings_akaryuga/dnqik15/\",\"retrieved_on\":1509189606,\"score\":3,\"stickied\":false,\"subreddit\":\"RWBY\",\"subreddit_id\":\"t5_2vhg0\"}',\n",
       " '{\"author\":\"Sir_Firebum\",\"author_flair_css_class\":\"HOU-wagon\",\"author_flair_text\":\"Astros Bandwagon\",\"body\":\"I got into baseball at about he same time Matt Cain started playing in the majors. Crazy to see him go. I teared up a bit too.\",\"can_gild\":true,\"controversiality\":0,\"created_utc\":1506816000,\"distinguished\":null,\"edited\":false,\"gilded\":0,\"id\":\"dnqik16\",\"is_submitter\":false,\"link_id\":\"t3_73hlwn\",\"parent_id\":\"t1_dnqc3lu\",\"permalink\":\"/r/baseball/comments/73hlwn/matt_cain_in_his_final_start_5ip_0er_2h_73_pitches/dnqik16/\",\"retrieved_on\":1509189606,\"score\":2,\"stickied\":false,\"subreddit\":\"baseball\",\"subreddit_id\":\"t5_2qm7u\"}',\n",
       " '{\"author\":\"deanzynut\",\"author_flair_css_class\":\"woodcutting\",\"author_flair_text\":\"99 wcing btw\",\"body\":\"FUCKING TORY\",\"can_gild\":true,\"controversiality\":0,\"created_utc\":1506816000,\"distinguished\":null,\"edited\":false,\"gilded\":0,\"id\":\"dnqik17\",\"is_submitter\":true,\"link_id\":\"t3_73gw9b\",\"parent_id\":\"t1_dnqdo99\",\"permalink\":\"/r/2007scape/comments/73gw9b/carls_platebody/dnqik17/\",\"retrieved_on\":1509189606,\"score\":18,\"stickied\":false,\"subreddit\":\"2007scape\",\"subreddit_id\":\"t5_2wbww\"}',\n",
       " '{\"author\":\"OfullOstomacheO\",\"author_flair_css_class\":null,\"author_flair_text\":null,\"body\":\"I see a water dragon \",\"can_gild\":true,\"controversiality\":0,\"created_utc\":1506816000,\"distinguished\":null,\"edited\":false,\"gilded\":0,\"id\":\"dnqik18\",\"is_submitter\":false,\"link_id\":\"t3_73i6z3\",\"parent_id\":\"t3_73i6z3\",\"permalink\":\"/r/mildlyinteresting/comments/73i6z3/this_brick_reminded_me_of_charlie_chaplin/dnqik18/\",\"retrieved_on\":1509189606,\"score\":1,\"stickied\":false,\"subreddit\":\"mildlyinteresting\",\"subreddit_id\":\"t5_2ti4h\"}',\n",
       " '{\"author\":\"PlusOn3\",\"author_flair_css_class\":\"green\",\"author_flair_text\":\"Sub 2:30 4x4 (2cep) YT: Plus Two\",\"body\":\"Wait. The Michigan what? Where is this? Is this like U of M club or a just state of Michigan?\",\"can_gild\":true,\"controversiality\":0,\"created_utc\":1506816000,\"distinguished\":null,\"edited\":false,\"gilded\":0,\"id\":\"dnqik19\",\"is_submitter\":false,\"link_id\":\"t3_73g65l\",\"parent_id\":\"t1_dnq4z9q\",\"permalink\":\"/r/Cubers/comments/73g65l/but_hey_why_not/dnqik19/\",\"retrieved_on\":1509189606,\"score\":1,\"stickied\":false,\"subreddit\":\"Cubers\",\"subreddit_id\":\"t5_2r6a3\"}',\n",
       " '{\"author\":\"yeee_bot\",\"author_flair_css_class\":null,\"author_flair_text\":null,\"body\":\"ye fam\",\"can_gild\":true,\"controversiality\":0,\"created_utc\":1506816000,\"distinguished\":null,\"edited\":false,\"gilded\":0,\"id\":\"dnqik1a\",\"is_submitter\":false,\"link_id\":\"t3_73hvr0\",\"parent_id\":\"t1_dnqijyp\",\"permalink\":\"/r/teenagers/comments/73hvr0/im_hungry/dnqik1a/\",\"retrieved_on\":1509189606,\"score\":2,\"stickied\":false,\"subreddit\":\"teenagers\",\"subreddit_id\":\"t5_2rjli\"}',\n",
       " '{\"author\":\"grrrrreat\",\"author_flair_css_class\":null,\"author_flair_text\":null,\"body\":\"143417804| &gt; United States Anonymous (ID: LIAKFEVH)\\\\n\\\\n&gt;&gt;143412250 (OP)\\\\noldfag here\\\\n\\\\n2016: Hillary\\\\n2012: Obama\\\\n2008: Obama\\\\n2004: Kerry\\\\n2000: Buchanan\\\\n1996: Dole\\\\n1992: Bush\\\\n1988: Bush\\\\n1984: Reagan\\\\n\\\\t\\\\t\\\\t\",\"can_gild\":true,\"controversiality\":0,\"created_utc\":1506816000,\"distinguished\":null,\"edited\":false,\"gilded\":0,\"id\":\"dnqik1b\",\"is_submitter\":true,\"link_id\":\"t3_73dvyh\",\"parent_id\":\"t3_73dvyh\",\"permalink\":\"/r/4chan4trump/comments/73dvyh/143412250who_have_you_voted_for_pol_ill_start/dnqik1b/\",\"retrieved_on\":1509189606,\"score\":1,\"stickied\":false,\"subreddit\":\"4chan4trump\",\"subreddit_id\":\"t5_3hds7\"}',\n",
       " '{\"author\":\"psych4191\",\"author_flair_css_class\":\"mississippistate-sheet1-row06-col08-eggbowl-2shtl-2rw18-2cl05\",\"author_flair_text\":\"Mississippi State Bulldogs / Egg Bowl\",\"body\":\"That is some chicken salad outta chicken shit running. \",\"can_gild\":true,\"controversiality\":0,\"created_utc\":1506816000,\"distinguished\":null,\"edited\":false,\"gilded\":0,\"id\":\"dnqik1c\",\"is_submitter\":false,\"link_id\":\"t3_73hgz4\",\"parent_id\":\"t3_73hgz4\",\"permalink\":\"/r/CFB/comments/73hgz4/game_thread_mississippi_state_auburn_600pm_et/dnqik1c/\",\"retrieved_on\":1509189606,\"score\":2,\"stickied\":false,\"subreddit\":\"CFB\",\"subreddit_id\":\"t5_2qm9d\"}',\n",
       " '{\"author\":\"fishboy2000\",\"author_flair_css_class\":\"northland\",\"author_flair_text\":\"Northland\",\"body\":\"Does he even know the rules?\",\"can_gild\":true,\"controversiality\":0,\"created_utc\":1506816000,\"distinguished\":null,\"edited\":false,\"gilded\":0,\"id\":\"dnqik1d\",\"is_submitter\":false,\"link_id\":\"t3_73feje\",\"parent_id\":\"t1_dnqick7\",\"permalink\":\"/r/rugbyunion/comments/73feje/match_thread_pumas_v_all_blacks_the_rugby/dnqik1d/\",\"retrieved_on\":1509189606,\"score\":1,\"stickied\":false,\"subreddit\":\"rugbyunion\",\"subreddit_id\":\"t5_2qkbe\"}']"
      ]
     },
     "execution_count": 5,
     "metadata": {},
     "output_type": "execute_result"
    }
   ],
   "source": [
    "rdd_en.take(10)"
   ]
  }
 ],
 "metadata": {
  "kernelspec": {
   "display_name": "Python 3 (ipykernel)",
   "language": "python",
   "name": "python3"
  },
  "language_info": {
   "codemirror_mode": {
    "name": "ipython",
    "version": 3
   },
   "file_extension": ".py",
   "mimetype": "text/x-python",
   "name": "python",
   "nbconvert_exporter": "python",
   "pygments_lexer": "ipython3",
   "version": "3.10.6"
  }
 },
 "nbformat": 4,
 "nbformat_minor": 5
}
